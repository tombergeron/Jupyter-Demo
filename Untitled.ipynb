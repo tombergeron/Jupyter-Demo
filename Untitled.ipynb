{
 "cells": [
  {
   "cell_type": "markdown",
   "metadata": {},
   "source": [
    "# <center> Math 578: Jupyter Notebook Demo </center>\n",
    "\n",
    "---\n",
    "\n",
    "### Getting Started:\n",
    "\n",
    "Before describing how to get started using Jupyter Notebooks, I will assume that you have `pip` and `Python` (preferrably the latest version) installed. If this is not the case, please visit this https://www.makeuseof.com/tag/install-pip-for-python/ tutorial for instructions on how to do this. \n",
    "\n",
    "To install Jupyter onto your computer, run the following commands in your terminal:\n",
    "\n",
    "`python3 -m pip install --upgrade pip\n",
    "python3 -m pip install jupyter`\n",
    "\n",
    "Note: Depending on your version and Python path you created, `python3` may have to be switched to `python`.\n",
    "\n",
    "The notebooks can be run from the terminal or by using Anaconda. Please see: https://jupyter.org/install for more information.\n",
    "\n",
    "### Jupyter Notebooks\n",
    "\n",
    "Jupyter notebooks, as used in the context of scientific computing and numerical analysis, are a powerful tool to communicate mathematics and algorithms with code embedded. In this Jupyter notebook I will cover some of the basics to get you started using them. This tutorial is intended for a beginner with Jupyter notebooks and Python. \n",
    "\n"
   ]
  },
  {
   "cell_type": "markdown",
   "metadata": {},
   "source": [
    "### Markdown Cells\n",
    "\n",
    "An advantage of using Jupyter notebooks to communicate ideas from scientific computing is the ability to create Markdown cells with Latex functionality. For a review of the basic commands using in the Markdown language, please see : https://www.markdownguide.org/. \n",
    "\n",
    "E.g.\n",
    "\n",
    "We approximate the ordinary differential equation\n",
    "\n",
    "\\begin{equation}\n",
    "\\frac{dy}{dt} = f(y,t) \\quad y(0) = y_0\n",
    "\\end{equation}\n",
    "\n",
    "using a Forward Euler step. Let $h$ be the step size of the time interval $[t_{n}, t_{n+1}]$, then perform the iteration\n",
    "\n",
    "\\begin{equation}\n",
    "y^{n+1} = y^{n} + hf(y^n, t_n)\n",
    "\\end{equation}\n",
    "\n",
    "to solve for $y(t_{n+1})$.\n",
    "\n",
    "Markdown cells should be placed in between Code cells to offer explanation of an algorithm or results. \n",
    "\n",
    "\n",
    "### Exporting the notebook:\n",
    "\n",
    "File --> Download as --> .ipynb file is best but can be saved otherwise. \n",
    "Make sure everything is run beforehand so that all your results are displayed. This will be what you upload to submit to Github. \n"
   ]
  },
  {
   "cell_type": "markdown",
   "metadata": {},
   "source": [
    "# <center> NumPy Array Basics </center>"
   ]
  },
  {
   "cell_type": "code",
   "execution_count": 1,
   "metadata": {},
   "outputs": [
    {
     "name": "stdout",
     "output_type": "stream",
     "text": [
      "1\n"
     ]
    }
   ],
   "source": [
    "import numpy as np\n",
    "\n",
    "# indexing\n",
    "\n",
    "\"\"\"\n",
    "Python supports 0-indexing, with the first element of an array being the zeroth element.\n",
    "\"\"\"\n",
    "\n",
    "X = [1, 2, 3, 4, 5, 6, 7, 8, 9, 10]\n",
    "\n",
    "print(X[0])\n"
   ]
  },
  {
   "cell_type": "markdown",
   "metadata": {},
   "source": [
    "### Variables\n",
    "\n",
    "Variables are stored globally throughout an entire Jupyter notebook, i.e., when they are declared in one cell and that cell is run then you can call upon them in any other cell. This is independent of the order, so the cell could be above or below. If you have many variable names, this can create some confusion. It is good practice when debugging to go to Kernel, at the top, and select \"Restart and Clear Output\". "
   ]
  },
  {
   "cell_type": "code",
   "execution_count": null,
   "metadata": {},
   "outputs": [],
   "source": [
    "X[-1]\n",
    "\n",
    "#Say you want to create another array from an existing one \n",
    "Y = X\n",
    "\n",
    "# And then perform some alterations to it\n",
    "Y[0] = 2\n",
    "\n",
    "# It will change that existing array.\n",
    "X[0]"
   ]
  },
  {
   "cell_type": "code",
   "execution_count": null,
   "metadata": {},
   "outputs": [],
   "source": [
    "# Reset the previous array:\n",
    "X = [1, 2, 3, 4, 5, 6, 7, 8, 9, 10]\n",
    "\n",
    "\n",
    "# To avoid this issue, one has to use the following command\n",
    "Y = X.copy() # or Y = X[:]\n",
    "Y[0] = 2\n",
    "X[0]\n"
   ]
  },
  {
   "cell_type": "markdown",
   "metadata": {},
   "source": [
    "## Lists and Arrays\n",
    "\n",
    "The data object `X` is a Python list. Arrays are a NumPy data structure, which themselves support different operations than the list. Below I highlight a few of these differences, showing advantages of using both data types. \n"
   ]
  },
  {
   "cell_type": "code",
   "execution_count": null,
   "metadata": {},
   "outputs": [],
   "source": [
    "X_array = np.array(X)\n",
    "\n",
    "X_array2 = np.array([[1,2,3], [1,2,3], [1,2,3]])\n",
    "\n",
    "X_array[0] = 2  \n",
    "X[0]  # The array creates a new data object and will not transfer properties\n",
    "\n",
    "# Although, if the data type (Numpy array) remains consistent when declaring a new variable, then it will\n",
    "# inherit the previous object's properties\n",
    "Y = X_array.copy()\n",
    "Y[0] = 3\n",
    "X_array[0] \n",
    "\n"
   ]
  },
  {
   "cell_type": "code",
   "execution_count": null,
   "metadata": {},
   "outputs": [],
   "source": [
    "# Reset the previous array:\n",
    "X = [1, 2, 3, 4, 5, 6, 7, 8, 9, 10]\n",
    "X_array = np.array(X)\n",
    "\n",
    "\n",
    "# Ex: Squaring\n",
    "\n",
    "# One can do basic arithmetic operations directly on NumPy arrays\n",
    "X_sq = X_array**2\n",
    "print(X_sq)\n",
    "\n",
    "# for a list\n",
    "X_sq2 = []  #create an empty list\n",
    "for x in X:\n",
    "    X_sq2.append(x**2)\n",
    "    \n",
    "print(X_sq2)\n",
    "\n",
    "# Or in a single line\n",
    "\n",
    "X_sq3 = [x**2 for x in X]\n",
    "\n",
    "# One can do in place operations on a list as well\n",
    "\n",
    "for i in range(len(X)):\n",
    "    X[i] = X[i]**3 # this will change the elements\n",
    "    \n",
    "print(X)\n",
    "\n",
    "X_array = X_array**3\n",
    "print(X_array)\n"
   ]
  },
  {
   "cell_type": "markdown",
   "metadata": {},
   "source": [
    "Now we'll look at basic operations to parse lists and arrays. Below are a few of the operations one can perform. "
   ]
  },
  {
   "cell_type": "code",
   "execution_count": null,
   "metadata": {},
   "outputs": [],
   "source": [
    "# One advantage of using lists is the ability to concatenate them very straightforwardly\n",
    "x = [0,1,2]\n",
    "y = [3,4,5]\n",
    "x + y"
   ]
  },
  {
   "cell_type": "code",
   "execution_count": null,
   "metadata": {},
   "outputs": [],
   "source": [
    "# if these were arrays\n",
    "x = np.array(x)\n",
    "y = np.array(y)\n",
    "x+y"
   ]
  },
  {
   "cell_type": "code",
   "execution_count": null,
   "metadata": {},
   "outputs": [],
   "source": [
    "# List slicing is a powerful tool and can be used for both lists and arrays\n",
    "\n",
    "X = [1, 2, 3, 4, 5, 6, 7, 8, 9, 10]\n",
    "\n",
    "print(X[-1])\n",
    "print(X[::-1])\n",
    "print(X[2:3]) \n",
    "print(X[2:4])  # note if you want the 3rd and 4th elements you have to add one more to the end\n",
    "print(X[1::2])\n",
    "\n",
    "u = [1,4,6,1,1,1,1,1,1]\n",
    "\n",
    "np.array(X)[u]"
   ]
  },
  {
   "cell_type": "code",
   "execution_count": null,
   "metadata": {},
   "outputs": [],
   "source": [
    "# Some Important functions and routines\n",
    "\n",
    "print(np.linspace(0,10,5))\n",
    "print(np.linspace(0,10,5, endpoint = False))"
   ]
  },
  {
   "cell_type": "code",
   "execution_count": 2,
   "metadata": {},
   "outputs": [
    {
     "name": "stdout",
     "output_type": "stream",
     "text": [
      "--Return--\n",
      "> <ipython-input-2-523c33085d1f>(21)<module>()->None\n",
      "-> pdb.set_trace()\n",
      "(Pdb) F\n",
      "[<function f1 at 0x7f758c4f29d8>, <function f2 at 0x7f758c45f9d8>, <function f3 at 0x7f758c45fa60>]\n",
      "(Pdb) F[0](0.01)\n",
      "0.0001\n",
      "(Pdb) exit()\n"
     ]
    },
    {
     "ename": "BdbQuit",
     "evalue": "",
     "output_type": "error",
     "traceback": [
      "\u001b[0;31m---------------------------------------------------------------------------\u001b[0m",
      "\u001b[0;31mBdbQuit\u001b[0m                                   Traceback (most recent call last)",
      "\u001b[0;32m<ipython-input-2-523c33085d1f>\u001b[0m in \u001b[0;36m<module>\u001b[0;34m\u001b[0m\n\u001b[1;32m     19\u001b[0m \u001b[0;34m\u001b[0m\u001b[0m\n\u001b[1;32m     20\u001b[0m \u001b[0;32mimport\u001b[0m \u001b[0mpdb\u001b[0m\u001b[0;34m\u001b[0m\u001b[0;34m\u001b[0m\u001b[0m\n\u001b[0;32m---> 21\u001b[0;31m \u001b[0mpdb\u001b[0m\u001b[0;34m.\u001b[0m\u001b[0mset_trace\u001b[0m\u001b[0;34m(\u001b[0m\u001b[0;34m)\u001b[0m\u001b[0;34m\u001b[0m\u001b[0;34m\u001b[0m\u001b[0m\n\u001b[0m\u001b[1;32m     22\u001b[0m \u001b[0;34m\u001b[0m\u001b[0m\n\u001b[1;32m     23\u001b[0m \u001b[0mouts\u001b[0m \u001b[0;34m=\u001b[0m \u001b[0;34m[\u001b[0m\u001b[0;34m]\u001b[0m\u001b[0;34m\u001b[0m\u001b[0;34m\u001b[0m\u001b[0m\n",
      "\u001b[0;32m~/miniconda3/lib/python3.7/bdb.py\u001b[0m in \u001b[0;36mtrace_dispatch\u001b[0;34m(self, frame, event, arg)\u001b[0m\n\u001b[1;32m     90\u001b[0m             \u001b[0;32mreturn\u001b[0m \u001b[0mself\u001b[0m\u001b[0;34m.\u001b[0m\u001b[0mdispatch_call\u001b[0m\u001b[0;34m(\u001b[0m\u001b[0mframe\u001b[0m\u001b[0;34m,\u001b[0m \u001b[0marg\u001b[0m\u001b[0;34m)\u001b[0m\u001b[0;34m\u001b[0m\u001b[0;34m\u001b[0m\u001b[0m\n\u001b[1;32m     91\u001b[0m         \u001b[0;32mif\u001b[0m \u001b[0mevent\u001b[0m \u001b[0;34m==\u001b[0m \u001b[0;34m'return'\u001b[0m\u001b[0;34m:\u001b[0m\u001b[0;34m\u001b[0m\u001b[0;34m\u001b[0m\u001b[0m\n\u001b[0;32m---> 92\u001b[0;31m             \u001b[0;32mreturn\u001b[0m \u001b[0mself\u001b[0m\u001b[0;34m.\u001b[0m\u001b[0mdispatch_return\u001b[0m\u001b[0;34m(\u001b[0m\u001b[0mframe\u001b[0m\u001b[0;34m,\u001b[0m \u001b[0marg\u001b[0m\u001b[0;34m)\u001b[0m\u001b[0;34m\u001b[0m\u001b[0;34m\u001b[0m\u001b[0m\n\u001b[0m\u001b[1;32m     93\u001b[0m         \u001b[0;32mif\u001b[0m \u001b[0mevent\u001b[0m \u001b[0;34m==\u001b[0m \u001b[0;34m'exception'\u001b[0m\u001b[0;34m:\u001b[0m\u001b[0;34m\u001b[0m\u001b[0;34m\u001b[0m\u001b[0m\n\u001b[1;32m     94\u001b[0m             \u001b[0;32mreturn\u001b[0m \u001b[0mself\u001b[0m\u001b[0;34m.\u001b[0m\u001b[0mdispatch_exception\u001b[0m\u001b[0;34m(\u001b[0m\u001b[0mframe\u001b[0m\u001b[0;34m,\u001b[0m \u001b[0marg\u001b[0m\u001b[0;34m)\u001b[0m\u001b[0;34m\u001b[0m\u001b[0;34m\u001b[0m\u001b[0m\n",
      "\u001b[0;32m~/miniconda3/lib/python3.7/bdb.py\u001b[0m in \u001b[0;36mdispatch_return\u001b[0;34m(self, frame, arg)\u001b[0m\n\u001b[1;32m    152\u001b[0m             \u001b[0;32mfinally\u001b[0m\u001b[0;34m:\u001b[0m\u001b[0;34m\u001b[0m\u001b[0;34m\u001b[0m\u001b[0m\n\u001b[1;32m    153\u001b[0m                 \u001b[0mself\u001b[0m\u001b[0;34m.\u001b[0m\u001b[0mframe_returning\u001b[0m \u001b[0;34m=\u001b[0m \u001b[0;32mNone\u001b[0m\u001b[0;34m\u001b[0m\u001b[0;34m\u001b[0m\u001b[0m\n\u001b[0;32m--> 154\u001b[0;31m             \u001b[0;32mif\u001b[0m \u001b[0mself\u001b[0m\u001b[0;34m.\u001b[0m\u001b[0mquitting\u001b[0m\u001b[0;34m:\u001b[0m \u001b[0;32mraise\u001b[0m \u001b[0mBdbQuit\u001b[0m\u001b[0;34m\u001b[0m\u001b[0;34m\u001b[0m\u001b[0m\n\u001b[0m\u001b[1;32m    155\u001b[0m             \u001b[0;31m# The user issued a 'next' or 'until' command.\u001b[0m\u001b[0;34m\u001b[0m\u001b[0;34m\u001b[0m\u001b[0;34m\u001b[0m\u001b[0m\n\u001b[1;32m    156\u001b[0m             \u001b[0;32mif\u001b[0m \u001b[0mself\u001b[0m\u001b[0;34m.\u001b[0m\u001b[0mstopframe\u001b[0m \u001b[0;32mis\u001b[0m \u001b[0mframe\u001b[0m \u001b[0;32mand\u001b[0m \u001b[0mself\u001b[0m\u001b[0;34m.\u001b[0m\u001b[0mstoplineno\u001b[0m \u001b[0;34m!=\u001b[0m \u001b[0;34m-\u001b[0m\u001b[0;36m1\u001b[0m\u001b[0;34m:\u001b[0m\u001b[0;34m\u001b[0m\u001b[0;34m\u001b[0m\u001b[0m\n",
      "\u001b[0;31mBdbQuit\u001b[0m: "
     ]
    }
   ],
   "source": [
    "#Some more advanced techniques\n",
    "# X = np.random.uniform(-10,10, [10,10])\n",
    "\n",
    "# one = X[np.where(abs(X) < 5)] #You can slice using a boolean\n",
    "\n",
    "#Lists can support any type of objects, for instance a list of callable functions\n",
    "\n",
    "def f1(x):\n",
    "    return x**2\n",
    "\n",
    "def f2(x):\n",
    "    return np.sin(x)\n",
    "\n",
    "def f3(x):\n",
    "    return np.cos(x)\n",
    "\n",
    "\n",
    "F = [f1, f2, f3]\n",
    "\n",
    "# import pdb\n",
    "# pdb.set_trace()\n",
    "\n",
    "outs = []\n",
    "for f in F:\n",
    "    outs.append(f(np.pi))\n",
    "\n",
    "# Complex numbers are supported\n",
    "x1 = 1 + 2*1j\n",
    "x2 = 5 + 4*1J\n",
    "print((x1*x2).imag)\n",
    "\n",
    "print(x1)\n",
    "\n",
    "\n",
    "\n"
   ]
  },
  {
   "cell_type": "markdown",
   "metadata": {},
   "source": [
    "### Basic Linear Algebra with NumPy\n",
    "\n",
    "As you will be performing many operations with matrices, I will conclude this tutorial with some of the basics of the operations one can perform with matrices."
   ]
  },
  {
   "cell_type": "code",
   "execution_count": 5,
   "metadata": {},
   "outputs": [
    {
     "name": "stdout",
     "output_type": "stream",
     "text": [
      "[[False False False]\n",
      " [False False False]\n",
      " [False False False]]\n",
      "[[   1    4    9]\n",
      " [   4   10   18]\n",
      " [   7 4040   27]]\n"
     ]
    },
    {
     "data": {
      "text/plain": [
       "array([-1.39381635e-17,  4.83005666e-20,  3.33333333e-01])"
      ]
     },
     "execution_count": 5,
     "metadata": {},
     "output_type": "execute_result"
    }
   ],
   "source": [
    "# How to define an array from 1D lists\n",
    "x1, x2, x3 = [1,2,3], [4,5,6], [7,2020,9]\n",
    "\n",
    "X = np.array([x1, x2, x3])\n",
    "\n",
    "X[0,:]\n",
    "X[:,2]\n",
    "\n",
    "X + np.sin(X)\n",
    "\n",
    "print(X + X != 2*X)\n",
    "\n",
    "# NumPy doesn't support matrix multiplication like Matlab does, i.e.:\n",
    "print(X*x1)\n",
    "\n",
    "# instead you need to use the linalg package:\n",
    "\n",
    "np.matmul(X,x1)\n",
    "\n",
    "\n",
    "# I'd suggest creating a function to do this to avoid the clunky notation, i.e.\n",
    "\n",
    "def Mmul(A, x):\n",
    "    return np.matmul(A,x)\n",
    "\n",
    "Mmul(X,X)\n",
    "\n",
    "# Inverses are supported as:\n",
    "np.linalg.solve(X,x1)\n",
    "\n",
    "\n",
    "\n",
    "### \n",
    "\n",
    "\n"
   ]
  },
  {
   "cell_type": "markdown",
   "metadata": {},
   "source": [
    "### Some concluding remarks\n",
    "\n",
    "To avoid 'hard-coding' make use of general functions and classes (if you know how). For instance, this can be done by creating one cell which contains most or all of your functions and algorithms that you wish to use. Commenting is advised and necessary, not only for someone reviewing your code, but also to keep track of your own thought process when devising an algorithm. Avoid `for` loops when possible as these will be computationally costly. Consider how loops can be supplemented in the 'Pythonic way' or using list slicing, as presented. \n",
    "\n",
    "Python has a powerful syntax for the logical operations. When combined with NumPy, one can perform basically everything you might need for numerical analysis. Creating efficient and concise implementations requires not only an understanding of the mathematics relevant to your problem but also practice writing code. \n",
    "\n",
    "Please email me at: seth.taylor@mail.mcgill.ca if you have any questions related to Python/NumPy or on getting set-up using Jupyter notebooks."
   ]
  }
 ],
 "metadata": {
  "kernelspec": {
   "display_name": "Python 3",
   "language": "python",
   "name": "python3"
  },
  "language_info": {
   "codemirror_mode": {
    "name": "ipython",
    "version": 3
   },
   "file_extension": ".py",
   "mimetype": "text/x-python",
   "name": "python",
   "nbconvert_exporter": "python",
   "pygments_lexer": "ipython3",
   "version": "3.7.3"
  }
 },
 "nbformat": 4,
 "nbformat_minor": 4
}
